{
 "cells": [
  {
   "cell_type": "code",
   "execution_count": null,
   "metadata": {},
   "outputs": [],
   "source": [
    "from selenium import webdriver\n",
    "from selenium.webdriver.common.keys import Keys\n",
    "from time import sleep\n",
    "import requests\n",
    "\n",
    "import pandas as pd\n",
    "import numpy as np"
   ]
  },
  {
   "cell_type": "code",
   "execution_count": null,
   "metadata": {},
   "outputs": [],
   "source": [
    "# driver = webdriver.Chrome('./chromedriver.exe')\n",
    "\n",
    "# driver.get('https://www.nbastuffer.com/player-stats/')"
   ]
  },
  {
   "cell_type": "code",
   "execution_count": 18,
   "metadata": {},
   "outputs": [],
   "source": [
    "class Player:\n",
    "    def __init__(self, name, team, position, age, games_played, minutes_per_game):\n",
    "        self.name = name\n",
    "        self.team = team\n",
    "        self.position = position\n",
    "        self.age = age\n",
    "        self.games_played = games_played\n",
    "        self.minutes_per_game = minutes_per_game\n",
    "        \n",
    "    @classmethod\n",
    "    def from_dict(cls, my_dict):\n",
    "        return cls(my_dict['name'], my_dict['team'], \n",
    "                   my_dict['position'], my_dict['age'], \n",
    "                   my_dict['games_played'], my_dict['minutes_per_game'])\n",
    "    \n",
    "    def __repr__(self):\n",
    "        return f'<Player: {self.name} {self.team}>'\n",
    "    \n",
    "class Team:\n",
    "    def __init__(self, name, players=[]):\n",
    "        self.name = name\n",
    "        self.players = players\n",
    "        \n",
    "    def add_player(self, player):\n",
    "        self.players.append(player)\n",
    "        \n",
    "    def remove_player(self, player_name):\n",
    "        for idx, player in enumerate(self.players):\n",
    "            if player.name == player_name:\n",
    "                self.players.pop(idx)\n",
    "                \n",
    "    def average_age(self):\n",
    "        total_age = 0\n",
    "        for player in self.players:\n",
    "            total_age += float(player.age)\n",
    "        \n",
    "        return total_age / len(self.players)\n",
    "                \n",
    "    def __repr__(self):\n",
    "        return f'<Team: {self.name} {len(self.players)}>'"
   ]
  },
  {
   "cell_type": "code",
   "execution_count": null,
   "metadata": {},
   "outputs": [],
   "source": [
    "def get_player_data(player_name):\n",
    "    print(\"Begin scraping...\")\n",
    "    \n",
    "    driver = webdriver.Chrome('./chromedriver.exe')\n",
    "\n",
    "    driver.get('https://www.nbastuffer.com/player-stats/')\n",
    "    \n",
    "    sleep(3)\n",
    "    \n",
    "    driver.find_element_by_css_selector('#post-12896 a').click()\n",
    "    \n",
    "    sleep(3)\n",
    "    \n",
    "    search_box = driver.find_element_by_css_selector('#tablepress-71_filter input')\n",
    "    \n",
    "    search_box.send_keys(player_name)\n",
    "    \n",
    "    player_row = driver.find_element_by_css_selector('#tablepress-71 tbody tr:first-of-type')\n",
    "    \n",
    "    player_dict = {\n",
    "        \"name\": driver.find_element_by_css_selector('#tablepress-71 tbody tr:first-of-type .column-2').text,\n",
    "        \"team\": driver.find_element_by_css_selector('#tablepress-71 tbody tr:first-of-type .column-3').text,\n",
    "        \"position\": driver.find_element_by_css_selector('#tablepress-71 tbody tr:first-of-type .column-4').text,\n",
    "        \"age\": driver.find_element_by_css_selector('#tablepress-71 tbody tr:first-of-type .column-5').text,\n",
    "        \"games_played\": driver.find_element_by_css_selector('#tablepress-71 tbody tr:first-of-type .column-6').text,\n",
    "        \"minutes_per_game\": driver.find_element_by_css_selector('#tablepress-71 tbody tr:first-of-type .column-7').text\n",
    "    }\n",
    "    \n",
    "    player = Player.from_dict(player_dict)\n",
    "    \n",
    "    print(player)\n",
    "    \n",
    "    sleep(3)\n",
    "    \n",
    "    driver.close()\n",
    "    \n",
    "    \n",
    "    \n",
    "    \n",
    "get_player_data('Russell Westbrook')\n",
    "get_player_data('Reggie Jackson')"
   ]
  },
  {
   "cell_type": "code",
   "execution_count": 20,
   "metadata": {},
   "outputs": [
    {
     "name": "stdout",
     "output_type": "stream",
     "text": [
      "Begin scraping...\n",
      "Begin scraping...\n",
      "<Team: bos 16>\n",
      "<Team: atl 16>\n"
     ]
    }
   ],
   "source": [
    "def find_players_by_team(team_abbreviation):\n",
    "    print(\"Begin scraping...\")\n",
    "    \n",
    "    driver = webdriver.Chrome('./chromedriver.exe')\n",
    "\n",
    "    driver.get('https://www.nbastuffer.com/player-stats/')\n",
    "    \n",
    "    sleep(3)\n",
    "    \n",
    "    driver.find_element_by_css_selector('#post-12896 a').click()\n",
    "    \n",
    "    sleep(3)\n",
    "    \n",
    "    dropdown_widget = driver.find_element_by_css_selector('#tablepress-71_wrapper .column-filter-widget .widget-2')\n",
    "    \n",
    "    dropdown_widget.click()\n",
    "    \n",
    "    dropdown_widget.find_element_by_css_selector(f'option[value={team_abbreviation}]').click()\n",
    "    \n",
    "    table_rows = driver.find_elements_by_css_selector('#tablepress-71 tbody > tr')\n",
    "    \n",
    "    players = []\n",
    "    \n",
    "    for idx in range(len(table_rows)):    \n",
    "        player_dict = {\n",
    "            \"name\": driver.find_element_by_css_selector(f'#tablepress-71 tbody tr:nth-of-type({idx + 1}) .column-2').text,\n",
    "            \"team\": driver.find_element_by_css_selector(f'#tablepress-71 tbody tr:nth-of-type({idx + 1}) .column-3').text,\n",
    "            \"position\": driver.find_element_by_css_selector(f'#tablepress-71 tbody tr:nth-of-type({idx + 1}) .column-4').text,\n",
    "            \"age\": driver.find_element_by_css_selector(f'#tablepress-71 tbody tr:nth-of-type({idx + 1}) .column-5').text,\n",
    "            \"games_played\": driver.find_element_by_css_selector(f'#tablepress-71 tbody tr:nth-of-type({idx + 1}) .column-6').text,\n",
    "            \"minutes_per_game\": driver.find_element_by_css_selector(f'#tablepress-71 tbody tr:nth-of-type({idx + 1}) .column-7').text\n",
    "        }\n",
    "        \n",
    "        player = Player.from_dict(player_dict)\n",
    "        \n",
    "        players.append(player)\n",
    "        \n",
    "    sleep(3)\n",
    "    \n",
    "    driver.close()\n",
    "        \n",
    "    return players\n",
    "\n",
    "bos = Team(\"bos\", find_players_by_team(\"Bos\"))\n",
    "atl = Team(\"atl\", find_players_by_team(\"Atl\"))\n",
    "print(bos)\n",
    "print(atl)"
   ]
  },
  {
   "cell_type": "code",
   "execution_count": 21,
   "metadata": {},
   "outputs": [
    {
     "data": {
      "text/plain": [
       "25.369999999999997"
      ]
     },
     "execution_count": 21,
     "metadata": {},
     "output_type": "execute_result"
    }
   ],
   "source": [
    "bos.average_age()"
   ]
  }
 ],
 "metadata": {
  "kernelspec": {
   "display_name": "Python 3 (ipykernel)",
   "language": "python",
   "name": "python3"
  },
  "language_info": {
   "codemirror_mode": {
    "name": "ipython",
    "version": 3
   },
   "file_extension": ".py",
   "mimetype": "text/x-python",
   "name": "python",
   "nbconvert_exporter": "python",
   "pygments_lexer": "ipython3",
   "version": "3.9.7"
  }
 },
 "nbformat": 4,
 "nbformat_minor": 2
}
