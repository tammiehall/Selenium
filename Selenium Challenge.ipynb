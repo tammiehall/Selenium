{
 "cells": [
  {
   "cell_type": "markdown",
   "metadata": {},
   "source": [
    "# Selenium Challenge\n",
    "<p>Oh no! You need to scrape and work with some data on a website that you used to frequent. The developers stuck it behind a login screen! How are you going to work with that data now??? Time to throw away beautiful soup and break out selenium.</p>\n",
    "<p>Use selenium to bypass the login screen so that you can automate the process of answering the following 3 questions.</p>\n",
    "<p>Challenge URL: <a href=\"https://modest-jennings-77f32e.netlify.app/\">https://modest-jennings-77f32e.netlify.app/</a></p>\n",
    "<p>Your password: jZ3HF+}g</p>"
   ]
  },
  {
   "cell_type": "code",
   "execution_count": 1,
   "metadata": {},
   "outputs": [],
   "source": [
    "from selenium import webdriver\n",
    "from selenium.webdriver.common.keys import Keys\n",
    "from time import sleep\n",
    "import requests\n",
    "\n",
    "import pandas as pd\n",
    "import numpy as np"
   ]
  },
  {
   "cell_type": "code",
   "execution_count": 2,
   "metadata": {},
   "outputs": [],
   "source": [
    "password = 'jZ3HF+}g'\n",
    "class Player:\n",
    "    def __init__(self, name, team, position, age, mpg):\n",
    "        self.name = name\n",
    "        self.team = team\n",
    "        self.position = position\n",
    "        self.age = age\n",
    "        self.minutes_per_game = mpg\n",
    "        \n",
    "    @classmethod\n",
    "    def from_dict(cls, my_dict):\n",
    "        return cls(my_dict['name'], my_dict['team'], my_dict['mpg'])\n",
    "    \n",
    "    def __repr__(self):\n",
    "        return f'<Player: {self.name} {self.team}>'\n",
    "    \n",
    "class Team:\n",
    "    def __init__(self, name, players=[]):\n",
    "        self.name = name\n",
    "        self.players = players\n",
    "        \n",
    "    def add_player(self, player):\n",
    "        self.players.append(player)\n",
    "        \n",
    "    def remove_player(self, player_name):\n",
    "        for idx, player in enumerate(self.players):\n",
    "            if player.name == player_name:\n",
    "                self.players.pop(idx)\n",
    "                \n",
    "    def average_age(self):\n",
    "        total_age = 0\n",
    "        for player in self.players:\n",
    "            total_age += float(player.age)\n",
    "        \n",
    "        return total_age / len(self.players)\n",
    "                \n",
    "    def __repr__(self):\n",
    "        return f'<Team: {self.name} {len(self.players)}>'"
   ]
  },
  {
   "cell_type": "code",
   "execution_count": 7,
   "metadata": {},
   "outputs": [
    {
     "ename": "TypeError",
     "evalue": "get_player_data() missing 1 required positional argument: 'player_name'",
     "output_type": "error",
     "traceback": [
      "\u001b[1;31m---------------------------------------------------------------------------\u001b[0m",
      "\u001b[1;31mTypeError\u001b[0m                                 Traceback (most recent call last)",
      "\u001b[1;32m~\\AppData\\Local\\Temp/ipykernel_268524/2477057283.py\u001b[0m in \u001b[0;36m<module>\u001b[1;34m\u001b[0m\n\u001b[0;32m     41\u001b[0m \u001b[1;33m\u001b[0m\u001b[0m\n\u001b[0;32m     42\u001b[0m \u001b[1;33m\u001b[0m\u001b[0m\n\u001b[1;32m---> 43\u001b[1;33m \u001b[0mget_player_data\u001b[0m\u001b[1;33m(\u001b[0m\u001b[1;33m)\u001b[0m\u001b[1;33m\u001b[0m\u001b[1;33m\u001b[0m\u001b[0m\n\u001b[0m\u001b[0;32m     44\u001b[0m \u001b[1;31m# get_player_data('Reggie Jackson')\u001b[0m\u001b[1;33m\u001b[0m\u001b[1;33m\u001b[0m\u001b[0m\n",
      "\u001b[1;31mTypeError\u001b[0m: get_player_data() missing 1 required positional argument: 'player_name'"
     ]
    }
   ],
   "source": [
    "def get_player_data(player_name):\n",
    "    print(\"Begin scraping...\")\n",
    "    \n",
    "    driver = webdriver.Chrome('./chromedriver.exe')\n",
    "\n",
    "    driver.get('https://modest-jennings-77f32e.netlify.app/data')\n",
    "    \n",
    "    sleep(2)\n",
    "    \n",
    "    password_box = driver.find_element_by_css_selector('#login-form.mt-4 input')\n",
    "    \n",
    "    password_box.send_keys(password)\n",
    "    \n",
    "    driver.find_element_by_css_selector('#login-form.mt-4 button').click()\n",
    "    \n",
    "    sleep(3)\n",
    "    \n",
    "    search_box = driver.find_element_by_css_selector('#Team').click()\n",
    "    \n",
    "#     search_box.send_keys(player_name)\n",
    "    \n",
    "    player_row = driver.find_element_by_css_selector('#min-w-full thead tr:first-of-type')\n",
    "    \n",
    "    print(player_row.text)\n",
    "    \n",
    "    player_dict = {\n",
    "        \"name\": driver.find_element_by_css_selector('#min-w-full thead tr:first-of-type .Name').text,\n",
    "        \"team\": driver.find_element_by_css_selector('#min-w-full thead tr:first-of-type .Team').text,\n",
    "        \"mpg\": driver.find_element_by_css_selector('#min-w-full thead tr:first-of-type .MPG').text\n",
    "    }\n",
    "    \n",
    "    player = Player.from_dict(player_dict)\n",
    "\n",
    "    print(player_row.text)\n",
    "    \n",
    "    sleep(3)\n",
    "    \n",
    "    driver.close()\n",
    "    \n",
    "    \n",
    "    \n",
    "    \n",
    "get_player_data('MPG')\n",
    "# get_player_data('Reggie Jackson')"
   ]
  },
  {
   "cell_type": "markdown",
   "metadata": {},
   "source": [
    "## Question 1\n",
    "<p>Find the player with the most MPG in the league</p>"
   ]
  },
  {
   "cell_type": "code",
   "execution_count": null,
   "metadata": {},
   "outputs": [],
   "source": []
  },
  {
   "cell_type": "code",
   "execution_count": null,
   "metadata": {},
   "outputs": [],
   "source": []
  },
  {
   "cell_type": "markdown",
   "metadata": {},
   "source": [
    "## Question 2\n",
    "<p>Please find the name of the oldest player on each team. Add them to a dictionary with each team's name being a key and the players name being the value.</p>"
   ]
  },
  {
   "cell_type": "code",
   "execution_count": null,
   "metadata": {},
   "outputs": [],
   "source": [
    "# Ex:\n",
    "oldest_players = {\n",
    "    \"Atl\": \"Lou Williams\",\n",
    "    \"Bos\": \"Tristan Thompson\",\n",
    "    # Etc for all teams\n",
    "}"
   ]
  },
  {
   "cell_type": "code",
   "execution_count": null,
   "metadata": {},
   "outputs": [],
   "source": []
  },
  {
   "cell_type": "markdown",
   "metadata": {},
   "source": [
    "## Question 3\n",
    "<p>Find the player with position F that had the least Games Played (GP) for each team, save as a dictionary. If there are multiple with the same GP, pick one.</p>"
   ]
  },
  {
   "cell_type": "code",
   "execution_count": null,
   "metadata": {},
   "outputs": [],
   "source": [
    "# Ex:\n",
    "most_played_center = {\n",
    "    \"Atl\": \"Solomon Hill\",\n",
    "    \"Bos\": \"Semi Ojeleye\",\n",
    "    # Etc for all teams\n",
    "}"
   ]
  }
 ],
 "metadata": {
  "kernelspec": {
   "display_name": "Python 3 (ipykernel)",
   "language": "python",
   "name": "python3"
  },
  "language_info": {
   "codemirror_mode": {
    "name": "ipython",
    "version": 3
   },
   "file_extension": ".py",
   "mimetype": "text/x-python",
   "name": "python",
   "nbconvert_exporter": "python",
   "pygments_lexer": "ipython3",
   "version": "3.9.7"
  }
 },
 "nbformat": 4,
 "nbformat_minor": 2
}
