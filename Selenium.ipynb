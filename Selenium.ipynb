{
 "cells": [
  {
   "cell_type": "code",
   "execution_count": 1,
   "id": "90904e51",
   "metadata": {},
   "outputs": [],
   "source": [
    "from selenium import webdriver\n",
    "from selenium.webdriver.common.keys import Keys\n",
    "from time import sleep\n",
    "import requests\n",
    "\n",
    "import pandas as pd\n",
    "import numpy as np"
   ]
  },
  {
   "cell_type": "code",
   "execution_count": 3,
   "id": "45130b3f",
   "metadata": {},
   "outputs": [],
   "source": [
    "# driver = webdriver.Chrome('./chromedriver.exe')\n",
    "\n",
    "# driver.get('https://www.nbastuffer.com/player-stats/')"
   ]
  },
  {
   "cell_type": "code",
   "execution_count": 37,
   "id": "b751153f",
   "metadata": {},
   "outputs": [],
   "source": [
    "class Player:\n",
    "    def __init__(self, name, team, position, age, games_played, minutes_per_game):\n",
    "        self.name = name\n",
    "        self.team = team\n",
    "        self.position = position\n",
    "        self.age = age\n",
    "        self.games_played = games_played\n",
    "        self.minutes_per_game = minutes_per_game\n",
    "        \n",
    "    @classmethod\n",
    "    def from_dict(cls, my_dict):\n",
    "        return cls(my_dict['name'], my_dict['team'], my_dict['position'], my_dict['age'],\n",
    "                   my_dict['games_played'], my_dict['minutes_per_game'])\n",
    "    \n",
    "    def __repr__(self):\n",
    "        return f'<Player: {self.name} {self.team}>'"
   ]
  },
  {
   "cell_type": "code",
   "execution_count": 39,
   "id": "3ac2578c",
   "metadata": {},
   "outputs": [
    {
     "name": "stdout",
     "output_type": "stream",
     "text": [
      "Begin scraping...\n",
      "<Player: Russell Westbrook Was>\n",
      "Begin scraping...\n",
      "<Player: Reggie Jackson Lac>\n"
     ]
    }
   ],
   "source": [
    "def get_player_data(player_name):\n",
    "    print(\"Begin scraping...\")\n",
    "\n",
    "    driver = webdriver.Chrome('./chromedriver.exe')\n",
    "\n",
    "    driver.get('https://www.nbastuffer.com/player-stats/')\n",
    "    \n",
    "    sleep(3)\n",
    "    \n",
    "    driver.find_element_by_css_selector('#post-12896 a').click()\n",
    "    \n",
    "    sleep(3)\n",
    "    \n",
    "    search_box = driver.find_element_by_css_selector('#tablepress-71_filter input')\n",
    "    \n",
    "    search_box.send_keys(player_name)\n",
    "    \n",
    "    player_row = driver.find_element_by_css_selector('#tablepress-71 tbody tr:first-of-type')\n",
    "    \n",
    "    player_dict = {\n",
    "        \"name\": driver.find_element_by_css_selector('#tablepress-71 tbody tr:first-of-type .column-2').text,\n",
    "        \"team\": driver.find_element_by_css_selector('#tablepress-71 tbody tr:first-of-type .column-3').text,\n",
    "        \"position\": driver.find_element_by_css_selector('#tablepress-71 tbody tr:first-of-type .column-4').text,\n",
    "        \"age\": driver.find_element_by_css_selector('#tablepress-71 tbody tr:first-of-type .column-5').text,\n",
    "        \"games_played\": driver.find_element_by_css_selector('#tablepress-71 tbody tr:first-of-type .column-6').text,\n",
    "        \"minutes_per_game\": driver.find_element_by_css_selector('#tablepress-71 tbody tr:first-of-type .column-7').text\n",
    "    }\n",
    "    \n",
    "    player = Player.from_dict(player_dict)\n",
    "    \n",
    "    print(player)\n",
    "    \n",
    "    sleep(3)\n",
    "    \n",
    "    driver.close \n",
    "\n",
    "    \n",
    "    \n",
    "get_player_data('Russell Westbrook')\n",
    "get_player_data('Reggie Jackson')"
   ]
  },
  {
   "cell_type": "code",
   "execution_count": null,
   "id": "aca7a148",
   "metadata": {},
   "outputs": [],
   "source": [
    "\n",
    "def find)players_by_team(team_abbrevi):\n",
    "    print(\"Begin scraping...\")\n",
    "\n",
    "    driver = webdriver.Chrome('./chromedriver.exe')\n",
    "\n",
    "    driver.get('https://www.nbastuffer.com/player-stats/')\n",
    "    \n",
    "    sleep(3)\n",
    "    \n",
    "    driver.find_element_by_css_selector('#post-12896 a').click()\n",
    "    \n",
    "    sleep(3)\n",
    "    "
   ]
  },
  {
   "cell_type": "code",
   "execution_count": null,
   "id": "c1daeead",
   "metadata": {},
   "outputs": [],
   "source": []
  },
  {
   "cell_type": "code",
   "execution_count": null,
   "id": "126fc981",
   "metadata": {},
   "outputs": [],
   "source": []
  },
  {
   "cell_type": "code",
   "execution_count": null,
   "id": "0abfdf18",
   "metadata": {},
   "outputs": [],
   "source": []
  },
  {
   "cell_type": "code",
   "execution_count": null,
   "id": "58a2ab1f",
   "metadata": {},
   "outputs": [],
   "source": []
  },
  {
   "cell_type": "code",
   "execution_count": null,
   "id": "a5962f7d",
   "metadata": {},
   "outputs": [],
   "source": []
  }
 ],
 "metadata": {
  "kernelspec": {
   "display_name": "Python 3 (ipykernel)",
   "language": "python",
   "name": "python3"
  },
  "language_info": {
   "codemirror_mode": {
    "name": "ipython",
    "version": 3
   },
   "file_extension": ".py",
   "mimetype": "text/x-python",
   "name": "python",
   "nbconvert_exporter": "python",
   "pygments_lexer": "ipython3",
   "version": "3.9.7"
  }
 },
 "nbformat": 4,
 "nbformat_minor": 5
}
